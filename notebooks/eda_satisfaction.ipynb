{
 "cells": [
  {
   "cell_type": "code",
   "execution_count": null,
   "metadata": {},
   "outputs": [],
   "source": []
  },
  {
   "cell_type": "code",
   "execution_count": 1,
   "metadata": {},
   "outputs": [
    {
     "name": "stdout",
     "output_type": "stream",
     "text": [
      "      bearer_id                start  start_ms                  end  end_ms  \\\n",
      "0  1.311448e+19  2019-04-04 12:01:00     770.0  2019-04-25 14:35:00   662.0   \n",
      "1  1.311448e+19  2019-04-09 13:04:00     235.0  2019-04-25 08:15:00   606.0   \n",
      "2  1.311448e+19  2019-04-09 17:42:00      10.0  2019-04-25 11:58:00   652.0   \n",
      "3  1.311448e+19  2019-04-10 00:31:00     486.0  2019-04-25 07:36:00   171.0   \n",
      "4  1.311448e+19  2019-04-12 20:10:00     565.0  2019-04-25 10:40:00   954.0   \n",
      "\n",
      "   dur._(ms)          imsi  msisdn/number          imei  \\\n",
      "0   398786.0  2.082014e+14   3.366496e+10  3.552121e+13   \n",
      "1   398786.0  2.082019e+14   3.368185e+10  3.579401e+13   \n",
      "2   398786.0  2.082003e+14   3.376063e+10  3.528151e+13   \n",
      "3   398786.0  2.082014e+14   3.375034e+10  3.535661e+13   \n",
      "4   398786.0  2.082014e+14   3.369980e+10  3.540701e+13   \n",
      "\n",
      "      last_location_name  ...  netflix_dl_(bytes)  netflix_ul_(bytes)  \\\n",
      "0  9.16456699548519E+015  ...           8198936.0           9656251.0   \n",
      "1                L77566A  ...          18338413.0          17227132.0   \n",
      "2                D42335A  ...          17587794.0           6163408.0   \n",
      "3                T21824A  ...          13994646.0           1097942.0   \n",
      "4                D88865A  ...          17124581.0            415218.0   \n",
      "\n",
      "   gaming_dl_(bytes)  gaming_ul_(bytes)  other_dl_(bytes)  other_ul_(bytes)  \\\n",
      "0        278082303.0         14344150.0       171744450.0         8814393.0   \n",
      "1        608750074.0          1170709.0       526904238.0        15055145.0   \n",
      "2        229584621.0           395630.0       410692588.0         4215763.0   \n",
      "3        799538153.0         10849722.0       749039933.0        12797283.0   \n",
      "4        527707248.0          3529801.0       550709500.0        13910322.0   \n",
      "\n",
      "   total_ul_(bytes)  total_dl_(bytes)  session_duration  total_data_volume  \n",
      "0        36749741.0       308879636.0         1823640.0        345629377.0  \n",
      "1        53800391.0       653384965.0         1365060.0        707185356.0  \n",
      "2        27883638.0       279807335.0         1361760.0        307690973.0  \n",
      "3        43324218.0       846028530.0         1321500.0        889352748.0  \n",
      "4        38542814.0       569138589.0         1089000.0        607681403.0  \n",
      "\n",
      "[5 rows x 57 columns]\n"
     ]
    }
   ],
   "source": [
    "import sys\n",
    "import os\n",
    "\n",
    "sys.path.append(os.path.abspath(\"../\"))\n",
    "\n",
    "from src.data.data_loading import load_cleaned_dataset\n",
    "\n",
    "# Load the cleaned dataset\n",
    "df = load_cleaned_dataset()\n",
    "\n",
    "# Display the first few rows\n",
    "print(df.head())"
   ]
  }
 ],
 "metadata": {
  "kernelspec": {
   "display_name": ".venv",
   "language": "python",
   "name": "python3"
  },
  "language_info": {
   "codemirror_mode": {
    "name": "ipython",
    "version": 3
   },
   "file_extension": ".py",
   "mimetype": "text/x-python",
   "name": "python",
   "nbconvert_exporter": "python",
   "pygments_lexer": "ipython3",
   "version": "3.12.6"
  }
 },
 "nbformat": 4,
 "nbformat_minor": 2
}
