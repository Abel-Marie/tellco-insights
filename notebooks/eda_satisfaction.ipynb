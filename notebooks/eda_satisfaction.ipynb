{
 "cells": [
  {
   "cell_type": "code",
   "execution_count": null,
   "metadata": {},
   "outputs": [],
   "source": []
  },
  {
   "cell_type": "code",
   "execution_count": 1,
   "metadata": {},
   "outputs": [
    {
     "name": "stdout",
     "output_type": "stream",
     "text": [
      "      bearer_id                start  start_ms                  end  end_ms  \\\n",
      "0  1.311448e+19  2019-04-04 12:01:00     770.0  2019-04-25 14:35:00   662.0   \n",
      "1  1.311448e+19  2019-04-09 13:04:00     235.0  2019-04-25 08:15:00   606.0   \n",
      "2  1.311448e+19  2019-04-09 17:42:00      10.0  2019-04-25 11:58:00   652.0   \n",
      "3  1.311448e+19  2019-04-10 00:31:00     486.0  2019-04-25 07:36:00   171.0   \n",
      "4  1.311448e+19  2019-04-12 20:10:00     565.0  2019-04-25 10:40:00   954.0   \n",
      "\n",
      "   dur._(ms)          imsi  msisdn/number          imei  \\\n",
      "0   398786.0  2.082014e+14   3.366496e+10  3.552121e+13   \n",
      "1   398786.0  2.082019e+14   3.368185e+10  3.579401e+13   \n",
      "2   398786.0  2.082003e+14   3.376063e+10  3.528151e+13   \n",
      "3   398786.0  2.082014e+14   3.375034e+10  3.535661e+13   \n",
      "4   398786.0  2.082014e+14   3.369980e+10  3.540701e+13   \n",
      "\n",
      "      last_location_name  ...  netflix_dl_(bytes)  netflix_ul_(bytes)  \\\n",
      "0  9.16456699548519E+015  ...           8198936.0           9656251.0   \n",
      "1                L77566A  ...          18338413.0          17227132.0   \n",
      "2                D42335A  ...          17587794.0           6163408.0   \n",
      "3                T21824A  ...          13994646.0           1097942.0   \n",
      "4                D88865A  ...          17124581.0            415218.0   \n",
      "\n",
      "   gaming_dl_(bytes)  gaming_ul_(bytes)  other_dl_(bytes)  other_ul_(bytes)  \\\n",
      "0        278082303.0         14344150.0       171744450.0         8814393.0   \n",
      "1        608750074.0          1170709.0       526904238.0        15055145.0   \n",
      "2        229584621.0           395630.0       410692588.0         4215763.0   \n",
      "3        799538153.0         10849722.0       749039933.0        12797283.0   \n",
      "4        527707248.0          3529801.0       550709500.0        13910322.0   \n",
      "\n",
      "   total_ul_(bytes)  total_dl_(bytes)  session_duration  total_data_volume  \n",
      "0        36749741.0       308879636.0         1823640.0        345629377.0  \n",
      "1        53800391.0       653384965.0         1365060.0        707185356.0  \n",
      "2        27883638.0       279807335.0         1361760.0        307690973.0  \n",
      "3        43324218.0       846028530.0         1321500.0        889352748.0  \n",
      "4        38542814.0       569138589.0         1089000.0        607681403.0  \n",
      "\n",
      "[5 rows x 57 columns]\n"
     ]
    }
   ],
   "source": [
    "import sys\n",
    "import os\n",
    "\n",
    "sys.path.append(os.path.abspath(\"../\"))\n",
    "\n",
    "from src.data.data_loading import load_cleaned_dataset\n",
    "\n",
    "# Load the cleaned dataset\n",
    "df = load_cleaned_dataset()\n",
    "\n",
    "# Display the first few rows\n",
    "print(df.head())"
   ]
  },
  {
   "cell_type": "code",
   "execution_count": 9,
   "metadata": {},
   "outputs": [
    {
     "name": "stdout",
     "output_type": "stream",
     "text": [
      "Aggregated Engagement DataFrame:\n",
      "   msisdn/number  sessions_frequency  total_duration  total_traffic\n",
      "0   3.360388e+10                1501     149727780.0   7.438672e+11\n",
      "1   3.360389e+10                   1         99821.0   9.141041e+08\n",
      "2   3.360389e+10                   1        134681.0   6.595847e+08\n",
      "3   3.360389e+10                   2         77933.0   7.726942e+08\n",
      "4   3.360389e+10                   1        112804.0   2.038695e+08\n"
     ]
    }
   ],
   "source": [
    "from src.analysis.user_engagement import aggregate_user_engagement\n",
    "# Aggregate engagement metrics\n",
    "aggregated_engagement_df = aggregate_user_engagement(df)\n",
    "print(\"Aggregated Engagement DataFrame:\")\n",
    "print(aggregated_engagement_df.head())\n"
   ]
  },
  {
   "cell_type": "code",
   "execution_count": 10,
   "metadata": {},
   "outputs": [
    {
     "name": "stdout",
     "output_type": "stream",
     "text": [
      "Clusters Assigned:\n",
      "   msisdn/number  sessions_frequency  total_duration  total_traffic  Cluster\n",
      "0   3.360388e+10                1501     149727780.0   7.438672e+11        2\n",
      "1   3.360389e+10                   1         99821.0   9.141041e+08        0\n",
      "2   3.360389e+10                   1        134681.0   6.595847e+08        0\n",
      "3   3.360389e+10                   2         77933.0   7.726942e+08        0\n",
      "4   3.360389e+10                   1        112804.0   2.038695e+08        0\n"
     ]
    }
   ],
   "source": [
    "from src.analysis.user_engagement import normalize_and_cluster\n",
    "\n",
    "# Define the metrics to cluster on\n",
    "engagement_metrics = [\"sessions_frequency\", \"total_duration\", \"total_traffic\"]\n",
    "\n",
    "# Perform clustering\n",
    "aggregated_engagement_df, engagement_kmeans, scaler = normalize_and_cluster(\n",
    "    aggregated_engagement_df, metrics=engagement_metrics, k=3\n",
    ")\n",
    "\n",
    "print(\"Clusters Assigned:\")\n",
    "print(aggregated_engagement_df.head())\n"
   ]
  },
  {
   "cell_type": "code",
   "execution_count": 11,
   "metadata": {},
   "outputs": [
    {
     "name": "stdout",
     "output_type": "stream",
     "text": [
      "Engagement Scores Added:\n",
      "   msisdn/number  engagement_score\n",
      "0   3.360388e+10      7.438672e+11\n",
      "1   3.360389e+10      9.141041e+08\n",
      "2   3.360389e+10      6.595847e+08\n",
      "3   3.360389e+10      7.726942e+08\n",
      "4   3.360389e+10      2.038695e+08\n"
     ]
    }
   ],
   "source": [
    "from src.analysis.satisisfaction_analysis import assign_engagement_score\n",
    "\n",
    "# Identify the least engaged cluster (usually based on domain knowledge or analysis)\n",
    "least_engaged_cluster = 0 \n",
    "\n",
    "# Assign engagement scores\n",
    "aggregated_engagement_df = assign_engagement_score(\n",
    "    aggregated_engagement_df, engagement_kmeans, least_engaged_cluster\n",
    ")\n",
    "\n",
    "print(\"Engagement Scores Added:\")\n",
    "print(aggregated_engagement_df[[\"msisdn/number\", \"engagement_score\"]].head())\n"
   ]
  }
 ],
 "metadata": {
  "kernelspec": {
   "display_name": ".venv",
   "language": "python",
   "name": "python3"
  },
  "language_info": {
   "codemirror_mode": {
    "name": "ipython",
    "version": 3
   },
   "file_extension": ".py",
   "mimetype": "text/x-python",
   "name": "python",
   "nbconvert_exporter": "python",
   "pygments_lexer": "ipython3",
   "version": "3.12.6"
  }
 },
 "nbformat": 4,
 "nbformat_minor": 2
}
