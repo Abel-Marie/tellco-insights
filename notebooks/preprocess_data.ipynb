{
 "cells": [
  {
   "cell_type": "markdown",
   "metadata": {},
   "source": [
    "## Estabilish Database connection and Load Data"
   ]
  },
  {
   "cell_type": "code",
   "execution_count": 1,
   "metadata": {},
   "outputs": [
    {
     "name": "stdout",
     "output_type": "stream",
     "text": [
      "Import successful!\n"
     ]
    }
   ],
   "source": [
    "import sys\n",
    "import os\n",
    "\n",
    "# Add the parent directory of 'src' to the system path\n",
    "sys.path.append(os.path.abspath(\"../\"))\n",
    "\n",
    "# Import the functions from data_loading.py in src/data\n",
    "from src.data.data_loading import load_data_from_postgres, load_data_using_sql_alchemy\n",
    "\n",
    "print(\"Import successful!\")\n"
   ]
  },
  {
   "cell_type": "code",
   "execution_count": 2,
   "metadata": {},
   "outputs": [
    {
     "name": "stderr",
     "output_type": "stream",
     "text": [
      "c:\\Users\\HP\\Desktop\\tellco-insights\\src\\data\\data_loading.py:56: UserWarning: pandas only supports SQLAlchemy connectable (engine/connection) or database string URI or sqlite3 DBAPI2 connection. Other DBAPI2 objects are not tested. Please consider using SQLAlchemy.\n",
      "  df = pd.read_sql_query(query, connection)\n"
     ]
    },
    {
     "name": "stdout",
     "output_type": "stream",
     "text": [
      "Sucessfully loaded the data\n"
     ]
    }
   ],
   "source": [
    "#Define your sql query \n",
    "query = \"SELECT * FROM xdr_data;\"\n",
    "\n",
    "# Load data from PostgreSQL\n",
    "df = load_data_from_postgres(query)\n",
    "\n",
    "\n",
    "if df is not None:\n",
    "    print(\"Sucessfully loaded the data\")\n",
    "else: \n",
    "    print(\"failed to load the data\")"
   ]
  },
  {
   "cell_type": "markdown",
   "metadata": {},
   "source": [
    "### Check the first top 5 rows"
   ]
  },
  {
   "cell_type": "code",
   "execution_count": 3,
   "metadata": {},
   "outputs": [
    {
     "data": {
      "text/html": [
       "<div>\n",
       "<style scoped>\n",
       "    .dataframe tbody tr th:only-of-type {\n",
       "        vertical-align: middle;\n",
       "    }\n",
       "\n",
       "    .dataframe tbody tr th {\n",
       "        vertical-align: top;\n",
       "    }\n",
       "\n",
       "    .dataframe thead th {\n",
       "        text-align: right;\n",
       "    }\n",
       "</style>\n",
       "<table border=\"1\" class=\"dataframe\">\n",
       "  <thead>\n",
       "    <tr style=\"text-align: right;\">\n",
       "      <th></th>\n",
       "      <th>Bearer Id</th>\n",
       "      <th>Start</th>\n",
       "      <th>Start ms</th>\n",
       "      <th>End</th>\n",
       "      <th>End ms</th>\n",
       "      <th>Dur. (ms)</th>\n",
       "      <th>IMSI</th>\n",
       "      <th>MSISDN/Number</th>\n",
       "      <th>IMEI</th>\n",
       "      <th>Last Location Name</th>\n",
       "      <th>...</th>\n",
       "      <th>Youtube DL (Bytes)</th>\n",
       "      <th>Youtube UL (Bytes)</th>\n",
       "      <th>Netflix DL (Bytes)</th>\n",
       "      <th>Netflix UL (Bytes)</th>\n",
       "      <th>Gaming DL (Bytes)</th>\n",
       "      <th>Gaming UL (Bytes)</th>\n",
       "      <th>Other DL (Bytes)</th>\n",
       "      <th>Other UL (Bytes)</th>\n",
       "      <th>Total UL (Bytes)</th>\n",
       "      <th>Total DL (Bytes)</th>\n",
       "    </tr>\n",
       "  </thead>\n",
       "  <tbody>\n",
       "    <tr>\n",
       "      <th>0</th>\n",
       "      <td>1.311448e+19</td>\n",
       "      <td>4/4/2019 12:01</td>\n",
       "      <td>770.0</td>\n",
       "      <td>4/25/2019 14:35</td>\n",
       "      <td>662.0</td>\n",
       "      <td>1823652.0</td>\n",
       "      <td>2.082014e+14</td>\n",
       "      <td>3.366496e+10</td>\n",
       "      <td>3.552121e+13</td>\n",
       "      <td>9.16456699548519E+015</td>\n",
       "      <td>...</td>\n",
       "      <td>15854611.0</td>\n",
       "      <td>2501332.0</td>\n",
       "      <td>8198936.0</td>\n",
       "      <td>9656251.0</td>\n",
       "      <td>278082303.0</td>\n",
       "      <td>14344150.0</td>\n",
       "      <td>171744450.0</td>\n",
       "      <td>8814393.0</td>\n",
       "      <td>36749741.0</td>\n",
       "      <td>308879636.0</td>\n",
       "    </tr>\n",
       "    <tr>\n",
       "      <th>1</th>\n",
       "      <td>1.311448e+19</td>\n",
       "      <td>4/9/2019 13:04</td>\n",
       "      <td>235.0</td>\n",
       "      <td>4/25/2019 8:15</td>\n",
       "      <td>606.0</td>\n",
       "      <td>1365104.0</td>\n",
       "      <td>2.082019e+14</td>\n",
       "      <td>3.368185e+10</td>\n",
       "      <td>3.579401e+13</td>\n",
       "      <td>L77566A</td>\n",
       "      <td>...</td>\n",
       "      <td>20247395.0</td>\n",
       "      <td>19111729.0</td>\n",
       "      <td>18338413.0</td>\n",
       "      <td>17227132.0</td>\n",
       "      <td>608750074.0</td>\n",
       "      <td>1170709.0</td>\n",
       "      <td>526904238.0</td>\n",
       "      <td>15055145.0</td>\n",
       "      <td>53800391.0</td>\n",
       "      <td>653384965.0</td>\n",
       "    </tr>\n",
       "    <tr>\n",
       "      <th>2</th>\n",
       "      <td>1.311448e+19</td>\n",
       "      <td>4/9/2019 17:42</td>\n",
       "      <td>1.0</td>\n",
       "      <td>4/25/2019 11:58</td>\n",
       "      <td>652.0</td>\n",
       "      <td>1361762.0</td>\n",
       "      <td>2.082003e+14</td>\n",
       "      <td>3.376063e+10</td>\n",
       "      <td>3.528151e+13</td>\n",
       "      <td>D42335A</td>\n",
       "      <td>...</td>\n",
       "      <td>19725661.0</td>\n",
       "      <td>14699576.0</td>\n",
       "      <td>17587794.0</td>\n",
       "      <td>6163408.0</td>\n",
       "      <td>229584621.0</td>\n",
       "      <td>395630.0</td>\n",
       "      <td>410692588.0</td>\n",
       "      <td>4215763.0</td>\n",
       "      <td>27883638.0</td>\n",
       "      <td>279807335.0</td>\n",
       "    </tr>\n",
       "    <tr>\n",
       "      <th>3</th>\n",
       "      <td>1.311448e+19</td>\n",
       "      <td>4/10/2019 0:31</td>\n",
       "      <td>486.0</td>\n",
       "      <td>4/25/2019 7:36</td>\n",
       "      <td>171.0</td>\n",
       "      <td>1321509.0</td>\n",
       "      <td>2.082014e+14</td>\n",
       "      <td>3.375034e+10</td>\n",
       "      <td>3.535661e+13</td>\n",
       "      <td>T21824A</td>\n",
       "      <td>...</td>\n",
       "      <td>21388122.0</td>\n",
       "      <td>15146643.0</td>\n",
       "      <td>13994646.0</td>\n",
       "      <td>1097942.0</td>\n",
       "      <td>799538153.0</td>\n",
       "      <td>10849722.0</td>\n",
       "      <td>749039933.0</td>\n",
       "      <td>12797283.0</td>\n",
       "      <td>43324218.0</td>\n",
       "      <td>846028530.0</td>\n",
       "    </tr>\n",
       "    <tr>\n",
       "      <th>4</th>\n",
       "      <td>1.311448e+19</td>\n",
       "      <td>4/12/2019 20:10</td>\n",
       "      <td>565.0</td>\n",
       "      <td>4/25/2019 10:40</td>\n",
       "      <td>954.0</td>\n",
       "      <td>1089009.0</td>\n",
       "      <td>2.082014e+14</td>\n",
       "      <td>3.369980e+10</td>\n",
       "      <td>3.540701e+13</td>\n",
       "      <td>D88865A</td>\n",
       "      <td>...</td>\n",
       "      <td>15259380.0</td>\n",
       "      <td>18962873.0</td>\n",
       "      <td>17124581.0</td>\n",
       "      <td>415218.0</td>\n",
       "      <td>527707248.0</td>\n",
       "      <td>3529801.0</td>\n",
       "      <td>550709500.0</td>\n",
       "      <td>13910322.0</td>\n",
       "      <td>38542814.0</td>\n",
       "      <td>569138589.0</td>\n",
       "    </tr>\n",
       "  </tbody>\n",
       "</table>\n",
       "<p>5 rows × 55 columns</p>\n",
       "</div>"
      ],
      "text/plain": [
       "      Bearer Id            Start  Start ms              End  End ms  \\\n",
       "0  1.311448e+19   4/4/2019 12:01     770.0  4/25/2019 14:35   662.0   \n",
       "1  1.311448e+19   4/9/2019 13:04     235.0   4/25/2019 8:15   606.0   \n",
       "2  1.311448e+19   4/9/2019 17:42       1.0  4/25/2019 11:58   652.0   \n",
       "3  1.311448e+19   4/10/2019 0:31     486.0   4/25/2019 7:36   171.0   \n",
       "4  1.311448e+19  4/12/2019 20:10     565.0  4/25/2019 10:40   954.0   \n",
       "\n",
       "   Dur. (ms)          IMSI  MSISDN/Number          IMEI  \\\n",
       "0  1823652.0  2.082014e+14   3.366496e+10  3.552121e+13   \n",
       "1  1365104.0  2.082019e+14   3.368185e+10  3.579401e+13   \n",
       "2  1361762.0  2.082003e+14   3.376063e+10  3.528151e+13   \n",
       "3  1321509.0  2.082014e+14   3.375034e+10  3.535661e+13   \n",
       "4  1089009.0  2.082014e+14   3.369980e+10  3.540701e+13   \n",
       "\n",
       "      Last Location Name  ...  Youtube DL (Bytes)  Youtube UL (Bytes)  \\\n",
       "0  9.16456699548519E+015  ...          15854611.0           2501332.0   \n",
       "1                L77566A  ...          20247395.0          19111729.0   \n",
       "2                D42335A  ...          19725661.0          14699576.0   \n",
       "3                T21824A  ...          21388122.0          15146643.0   \n",
       "4                D88865A  ...          15259380.0          18962873.0   \n",
       "\n",
       "   Netflix DL (Bytes)  Netflix UL (Bytes)  Gaming DL (Bytes)  \\\n",
       "0           8198936.0           9656251.0        278082303.0   \n",
       "1          18338413.0          17227132.0        608750074.0   \n",
       "2          17587794.0           6163408.0        229584621.0   \n",
       "3          13994646.0           1097942.0        799538153.0   \n",
       "4          17124581.0            415218.0        527707248.0   \n",
       "\n",
       "   Gaming UL (Bytes)  Other DL (Bytes)  Other UL (Bytes)  Total UL (Bytes)  \\\n",
       "0         14344150.0       171744450.0         8814393.0        36749741.0   \n",
       "1          1170709.0       526904238.0        15055145.0        53800391.0   \n",
       "2           395630.0       410692588.0         4215763.0        27883638.0   \n",
       "3         10849722.0       749039933.0        12797283.0        43324218.0   \n",
       "4          3529801.0       550709500.0        13910322.0        38542814.0   \n",
       "\n",
       "   Total DL (Bytes)  \n",
       "0       308879636.0  \n",
       "1       653384965.0  \n",
       "2       279807335.0  \n",
       "3       846028530.0  \n",
       "4       569138589.0  \n",
       "\n",
       "[5 rows x 55 columns]"
      ]
     },
     "execution_count": 3,
     "metadata": {},
     "output_type": "execute_result"
    }
   ],
   "source": [
    "df.head()"
   ]
  },
  {
   "cell_type": "code",
   "execution_count": 6,
   "metadata": {},
   "outputs": [
    {
     "data": {
      "text/plain": [
       "Index(['Bearer Id', 'Start', 'Start ms', 'End', 'End ms', 'Dur. (ms)', 'IMSI',\n",
       "       'MSISDN/Number', 'IMEI', 'Last Location Name', 'Avg RTT DL (ms)',\n",
       "       'Avg RTT UL (ms)', 'Avg Bearer TP DL (kbps)', 'Avg Bearer TP UL (kbps)',\n",
       "       'TCP DL Retrans. Vol (Bytes)', 'TCP UL Retrans. Vol (Bytes)',\n",
       "       'DL TP < 50 Kbps (%)', '50 Kbps < DL TP < 250 Kbps (%)',\n",
       "       '250 Kbps < DL TP < 1 Mbps (%)', 'DL TP > 1 Mbps (%)',\n",
       "       'UL TP < 10 Kbps (%)', '10 Kbps < UL TP < 50 Kbps (%)',\n",
       "       '50 Kbps < UL TP < 300 Kbps (%)', 'UL TP > 300 Kbps (%)',\n",
       "       'HTTP DL (Bytes)', 'HTTP UL (Bytes)', 'Activity Duration DL (ms)',\n",
       "       'Activity Duration UL (ms)', 'Dur. (ms).1', 'Handset Manufacturer',\n",
       "       'Handset Type', 'Nb of sec with 125000B < Vol DL',\n",
       "       'Nb of sec with 1250B < Vol UL < 6250B',\n",
       "       'Nb of sec with 31250B < Vol DL < 125000B',\n",
       "       'Nb of sec with 37500B < Vol UL',\n",
       "       'Nb of sec with 6250B < Vol DL < 31250B',\n",
       "       'Nb of sec with 6250B < Vol UL < 37500B',\n",
       "       'Nb of sec with Vol DL < 6250B', 'Nb of sec with Vol UL < 1250B',\n",
       "       'Social Media DL (Bytes)', 'Social Media UL (Bytes)',\n",
       "       'Google DL (Bytes)', 'Google UL (Bytes)', 'Email DL (Bytes)',\n",
       "       'Email UL (Bytes)', 'Youtube DL (Bytes)', 'Youtube UL (Bytes)',\n",
       "       'Netflix DL (Bytes)', 'Netflix UL (Bytes)', 'Gaming DL (Bytes)',\n",
       "       'Gaming UL (Bytes)', 'Other DL (Bytes)', 'Other UL (Bytes)',\n",
       "       'Total UL (Bytes)', 'Total DL (Bytes)'],\n",
       "      dtype='object')"
      ]
     },
     "execution_count": 6,
     "metadata": {},
     "output_type": "execute_result"
    }
   ],
   "source": [
    "df.columns"
   ]
  },
  {
   "cell_type": "code",
   "execution_count": 7,
   "metadata": {},
   "outputs": [
    {
     "data": {
      "text/plain": [
       "<bound method DataFrame.info of            Bearer Id            Start  Start ms              End  End ms  \\\n",
       "0       1.311448e+19   4/4/2019 12:01     770.0  4/25/2019 14:35   662.0   \n",
       "1       1.311448e+19   4/9/2019 13:04     235.0   4/25/2019 8:15   606.0   \n",
       "2       1.311448e+19   4/9/2019 17:42       1.0  4/25/2019 11:58   652.0   \n",
       "3       1.311448e+19   4/10/2019 0:31     486.0   4/25/2019 7:36   171.0   \n",
       "4       1.311448e+19  4/12/2019 20:10     565.0  4/25/2019 10:40   954.0   \n",
       "...              ...              ...       ...              ...     ...   \n",
       "149996  7.277826e+18   4/29/2019 7:28     451.0   4/30/2019 6:02   214.0   \n",
       "149997  7.349883e+18   4/29/2019 7:28     483.0  4/30/2019 10:41   187.0   \n",
       "149998  1.311448e+19   4/29/2019 7:28     283.0  4/30/2019 10:46   810.0   \n",
       "149999  1.311448e+19   4/29/2019 7:28     696.0  4/30/2019 10:40   327.0   \n",
       "150000           NaN             None       NaN             None     NaN   \n",
       "\n",
       "        Dur. (ms)          IMSI  MSISDN/Number          IMEI  \\\n",
       "0       1823652.0  2.082014e+14   3.366496e+10  3.552121e+13   \n",
       "1       1365104.0  2.082019e+14   3.368185e+10  3.579401e+13   \n",
       "2       1361762.0  2.082003e+14   3.376063e+10  3.528151e+13   \n",
       "3       1321509.0  2.082014e+14   3.375034e+10  3.535661e+13   \n",
       "4       1089009.0  2.082014e+14   3.369980e+10  3.540701e+13   \n",
       "...           ...           ...            ...           ...   \n",
       "149996    81230.0  2.082022e+14   3.365069e+10  3.548311e+13   \n",
       "149997    97970.0  2.082019e+14   3.366345e+10  3.566051e+13   \n",
       "149998    98249.0  2.082017e+14   3.362189e+10  3.572121e+13   \n",
       "149999    97910.0  2.082021e+14   3.361962e+10  8.618620e+13   \n",
       "150000        NaN           NaN            NaN           NaN   \n",
       "\n",
       "           Last Location Name  ...  Youtube DL (Bytes)  Youtube UL (Bytes)  \\\n",
       "0       9.16456699548519E+015  ...        1.585461e+07        2.501332e+06   \n",
       "1                     L77566A  ...        2.024740e+07        1.911173e+07   \n",
       "2                     D42335A  ...        1.972566e+07        1.469958e+07   \n",
       "3                     T21824A  ...        2.138812e+07        1.514664e+07   \n",
       "4                     D88865A  ...        1.525938e+07        1.896287e+07   \n",
       "...                       ...  ...                 ...                 ...   \n",
       "149996                D20434A  ...        1.619167e+07        1.176343e+07   \n",
       "149997                D10223C  ...        1.387723e+07        8.288284e+06   \n",
       "149998                T51102A  ...        2.266051e+07        1.855903e+06   \n",
       "149999                L88342B  ...        8.817106e+06        8.305402e+06   \n",
       "150000                   None  ...        1.163407e+07        1.100941e+07   \n",
       "\n",
       "        Netflix DL (Bytes)  Netflix UL (Bytes)  Gaming DL (Bytes)  \\\n",
       "0             8.198936e+06        9.656251e+06       2.780823e+08   \n",
       "1             1.833841e+07        1.722713e+07       6.087501e+08   \n",
       "2             1.758779e+07        6.163408e+06       2.295846e+08   \n",
       "3             1.399465e+07        1.097942e+06       7.995382e+08   \n",
       "4             1.712458e+07        4.152180e+05       5.277072e+08   \n",
       "...                    ...                 ...                ...   \n",
       "149996        1.788370e+07        1.967816e+07       5.266097e+08   \n",
       "149997        1.935015e+07        2.129315e+07       6.268931e+08   \n",
       "149998        9.963942e+06        5.065760e+06       5.535395e+08   \n",
       "149999        3.322253e+06        1.317259e+07       3.525370e+08   \n",
       "150000        1.162685e+07        1.100175e+07       4.220447e+08   \n",
       "\n",
       "        Gaming UL (Bytes)  Other DL (Bytes)  Other UL (Bytes)  \\\n",
       "0            1.434415e+07      1.717444e+08      8.814393e+06   \n",
       "1            1.170709e+06      5.269042e+08      1.505514e+07   \n",
       "2            3.956300e+05      4.106926e+08      4.215763e+06   \n",
       "3            1.084972e+07      7.490399e+08      1.279728e+07   \n",
       "4            3.529801e+06      5.507095e+08      1.391032e+07   \n",
       "...                   ...               ...               ...   \n",
       "149996       9.197207e+06      3.264510e+06      1.348742e+07   \n",
       "149997       4.735033e+06      7.121804e+08      2.457758e+06   \n",
       "149998       1.339432e+07      1.211009e+08      1.131473e+07   \n",
       "149999       2.529475e+06      8.147131e+08      1.406930e+06   \n",
       "150000       8.288398e+06      4.211005e+08      8.264799e+06   \n",
       "\n",
       "        Total UL (Bytes)  Total DL (Bytes)  \n",
       "0             36749741.0       308879636.0  \n",
       "1             53800391.0       653384965.0  \n",
       "2             27883638.0       279807335.0  \n",
       "3             43324218.0       846028530.0  \n",
       "4             38542814.0       569138589.0  \n",
       "...                  ...               ...  \n",
       "149996        57628851.0       574175259.0  \n",
       "149997        39135081.0       666648844.0  \n",
       "149998        34912224.0       592786405.0  \n",
       "149999        29626096.0       371895920.0  \n",
       "150000               NaN               NaN  \n",
       "\n",
       "[150001 rows x 55 columns]>"
      ]
     },
     "execution_count": 7,
     "metadata": {},
     "output_type": "execute_result"
    }
   ],
   "source": [
    "df.info"
   ]
  },
  {
   "cell_type": "markdown",
   "metadata": {},
   "source": [
    "### Check and Handle Missing Values"
   ]
  },
  {
   "cell_type": "code",
   "execution_count": 4,
   "metadata": {},
   "outputs": [
    {
     "name": "stdout",
     "output_type": "stream",
     "text": [
      "Bearer Id                                      991\n",
      "Start                                            1\n",
      "Start ms                                         1\n",
      "End                                              1\n",
      "End ms                                           1\n",
      "Dur. (ms)                                        1\n",
      "IMSI                                           570\n",
      "MSISDN/Number                                 1066\n",
      "IMEI                                           572\n",
      "Last Location Name                            1153\n",
      "Avg RTT DL (ms)                              27829\n",
      "Avg RTT UL (ms)                              27812\n",
      "Avg Bearer TP DL (kbps)                          1\n",
      "Avg Bearer TP UL (kbps)                          1\n",
      "TCP DL Retrans. Vol (Bytes)                  88146\n",
      "TCP UL Retrans. Vol (Bytes)                  96649\n",
      "DL TP < 50 Kbps (%)                            754\n",
      "50 Kbps < DL TP < 250 Kbps (%)                 754\n",
      "250 Kbps < DL TP < 1 Mbps (%)                  754\n",
      "DL TP > 1 Mbps (%)                             754\n",
      "UL TP < 10 Kbps (%)                            792\n",
      "10 Kbps < UL TP < 50 Kbps (%)                  792\n",
      "50 Kbps < UL TP < 300 Kbps (%)                 792\n",
      "UL TP > 300 Kbps (%)                           792\n",
      "HTTP DL (Bytes)                              81474\n",
      "HTTP UL (Bytes)                              81810\n",
      "Activity Duration DL (ms)                        1\n",
      "Activity Duration UL (ms)                        1\n",
      "Dur. (ms).1                                      1\n",
      "Handset Manufacturer                           572\n",
      "Handset Type                                   572\n",
      "Nb of sec with 125000B < Vol DL              97538\n",
      "Nb of sec with 1250B < Vol UL < 6250B        92894\n",
      "Nb of sec with 31250B < Vol DL < 125000B     93586\n",
      "Nb of sec with 37500B < Vol UL              130254\n",
      "Nb of sec with 6250B < Vol DL < 31250B       88317\n",
      "Nb of sec with 6250B < Vol UL < 37500B      111843\n",
      "Nb of sec with Vol DL < 6250B                  755\n",
      "Nb of sec with Vol UL < 1250B                  793\n",
      "Social Media DL (Bytes)                          0\n",
      "Social Media UL (Bytes)                          0\n",
      "Google DL (Bytes)                                0\n",
      "Google UL (Bytes)                                0\n",
      "Email DL (Bytes)                                 0\n",
      "Email UL (Bytes)                                 0\n",
      "Youtube DL (Bytes)                               0\n",
      "Youtube UL (Bytes)                               0\n",
      "Netflix DL (Bytes)                               0\n",
      "Netflix UL (Bytes)                               0\n",
      "Gaming DL (Bytes)                                0\n",
      "Gaming UL (Bytes)                                0\n",
      "Other DL (Bytes)                                 0\n",
      "Other UL (Bytes)                                 0\n",
      "Total UL (Bytes)                                 1\n",
      "Total DL (Bytes)                                 1\n",
      "dtype: int64\n"
     ]
    }
   ],
   "source": [
    "print(df.isnull().sum())\n"
   ]
  },
  {
   "cell_type": "markdown",
   "metadata": {},
   "source": [
    "#### Handling Missing values of numerical DataTypes"
   ]
  },
  {
   "cell_type": "code",
   "execution_count": 8,
   "metadata": {},
   "outputs": [],
   "source": [
    "numerical_columns = df.select_dtypes(include='float64').columns\n",
    "df[numerical_columns] = df[numerical_columns].fillna(df[numerical_columns].mean())\n"
   ]
  },
  {
   "cell_type": "markdown",
   "metadata": {},
   "source": [
    "#### Handling Missing Values Of Categorical DataTypes"
   ]
  },
  {
   "cell_type": "code",
   "execution_count": 9,
   "metadata": {},
   "outputs": [],
   "source": [
    "categorical_columns = df.select_dtypes(include='object').columns\n",
    "df[categorical_columns] = df[categorical_columns].fillna(df[categorical_columns].mode().iloc[0])\n"
   ]
  },
  {
   "cell_type": "code",
   "execution_count": 10,
   "metadata": {},
   "outputs": [
    {
     "name": "stdout",
     "output_type": "stream",
     "text": [
      "Bearer Id                                   0\n",
      "Start                                       0\n",
      "Start ms                                    0\n",
      "End                                         0\n",
      "End ms                                      0\n",
      "Dur. (ms)                                   0\n",
      "IMSI                                        0\n",
      "MSISDN/Number                               0\n",
      "IMEI                                        0\n",
      "Last Location Name                          0\n",
      "Avg RTT DL (ms)                             0\n",
      "Avg RTT UL (ms)                             0\n",
      "Avg Bearer TP DL (kbps)                     0\n",
      "Avg Bearer TP UL (kbps)                     0\n",
      "TCP DL Retrans. Vol (Bytes)                 0\n",
      "TCP UL Retrans. Vol (Bytes)                 0\n",
      "DL TP < 50 Kbps (%)                         0\n",
      "50 Kbps < DL TP < 250 Kbps (%)              0\n",
      "250 Kbps < DL TP < 1 Mbps (%)               0\n",
      "DL TP > 1 Mbps (%)                          0\n",
      "UL TP < 10 Kbps (%)                         0\n",
      "10 Kbps < UL TP < 50 Kbps (%)               0\n",
      "50 Kbps < UL TP < 300 Kbps (%)              0\n",
      "UL TP > 300 Kbps (%)                        0\n",
      "HTTP DL (Bytes)                             0\n",
      "HTTP UL (Bytes)                             0\n",
      "Activity Duration DL (ms)                   0\n",
      "Activity Duration UL (ms)                   0\n",
      "Dur. (ms).1                                 0\n",
      "Handset Manufacturer                        0\n",
      "Handset Type                                0\n",
      "Nb of sec with 125000B < Vol DL             0\n",
      "Nb of sec with 1250B < Vol UL < 6250B       0\n",
      "Nb of sec with 31250B < Vol DL < 125000B    0\n",
      "Nb of sec with 37500B < Vol UL              0\n",
      "Nb of sec with 6250B < Vol DL < 31250B      0\n",
      "Nb of sec with 6250B < Vol UL < 37500B      0\n",
      "Nb of sec with Vol DL < 6250B               0\n",
      "Nb of sec with Vol UL < 1250B               0\n",
      "Social Media DL (Bytes)                     0\n",
      "Social Media UL (Bytes)                     0\n",
      "Google DL (Bytes)                           0\n",
      "Google UL (Bytes)                           0\n",
      "Email DL (Bytes)                            0\n",
      "Email UL (Bytes)                            0\n",
      "Youtube DL (Bytes)                          0\n",
      "Youtube UL (Bytes)                          0\n",
      "Netflix DL (Bytes)                          0\n",
      "Netflix UL (Bytes)                          0\n",
      "Gaming DL (Bytes)                           0\n",
      "Gaming UL (Bytes)                           0\n",
      "Other DL (Bytes)                            0\n",
      "Other UL (Bytes)                            0\n",
      "Total UL (Bytes)                            0\n",
      "Total DL (Bytes)                            0\n",
      "dtype: int64\n"
     ]
    }
   ],
   "source": [
    "print(df.isnull().sum())\n"
   ]
  },
  {
   "cell_type": "code",
   "execution_count": 11,
   "metadata": {},
   "outputs": [
    {
     "name": "stdout",
     "output_type": "stream",
     "text": [
      "Bearer Id                                   0\n",
      "Google DL (Bytes)                           0\n",
      "Handset Type                                0\n",
      "Nb of sec with 125000B < Vol DL             0\n",
      "Nb of sec with 1250B < Vol UL < 6250B       0\n",
      "Nb of sec with 31250B < Vol DL < 125000B    0\n",
      "Nb of sec with 37500B < Vol UL              0\n",
      "Nb of sec with 6250B < Vol DL < 31250B      0\n",
      "Nb of sec with 6250B < Vol UL < 37500B      0\n",
      "Nb of sec with Vol DL < 6250B               0\n",
      "dtype: int64\n"
     ]
    }
   ],
   "source": [
    "missing_values = df.isnull().sum()\n",
    "\n",
    "top_missing = missing_values.sort_values(ascending=False).head(10)\n",
    "\n",
    "print(top_missing)\n"
   ]
  },
  {
   "cell_type": "markdown",
   "metadata": {},
   "source": [
    "### Handle Duplicates"
   ]
  },
  {
   "cell_type": "code",
   "execution_count": 12,
   "metadata": {},
   "outputs": [],
   "source": [
    "df = df.drop_duplicates()\n"
   ]
  },
  {
   "cell_type": "markdown",
   "metadata": {},
   "source": [
    "### Standardize and Clean Column Names"
   ]
  },
  {
   "cell_type": "code",
   "execution_count": 13,
   "metadata": {},
   "outputs": [],
   "source": [
    "df.columns = df.columns.str.strip().str.replace(' ', '_').str.lower()\n"
   ]
  },
  {
   "cell_type": "markdown",
   "metadata": {},
   "source": [
    "### Treat Outliers"
   ]
  },
  {
   "cell_type": "code",
   "execution_count": 15,
   "metadata": {},
   "outputs": [
    {
     "name": "stdout",
     "output_type": "stream",
     "text": [
      "First Quartile (Q1):\n",
      "bearer_id                                   7.349883e+18\n",
      "start_ms                                    2.500000e+02\n",
      "end_ms                                      2.510000e+02\n",
      "dur._(ms)                                   5.744200e+04\n",
      "imsi                                        2.082014e+14\n",
      "msisdn/number                               3.365151e+10\n",
      "imei                                        3.546261e+13\n",
      "avg_rtt_dl_(ms)                             3.500000e+01\n",
      "avg_rtt_ul_(ms)                             3.000000e+00\n",
      "avg_bearer_tp_dl_(kbps)                     4.300000e+01\n",
      "avg_bearer_tp_ul_(kbps)                     4.700000e+01\n",
      "tcp_dl_retrans._vol_(bytes)                 1.332932e+06\n",
      "tcp_ul_retrans._vol_(bytes)                 6.300900e+04\n",
      "dl_tp_<_50_kbps_(%)                         9.100000e+01\n",
      "50_kbps_<_dl_tp_<_250_kbps_(%)              0.000000e+00\n",
      "250_kbps_<_dl_tp_<_1_mbps_(%)               0.000000e+00\n",
      "dl_tp_>_1_mbps_(%)                          0.000000e+00\n",
      "ul_tp_<_10_kbps_(%)                         9.900000e+01\n",
      "10_kbps_<_ul_tp_<_50_kbps_(%)               0.000000e+00\n",
      "50_kbps_<_ul_tp_<_300_kbps_(%)              0.000000e+00\n",
      "ul_tp_>_300_kbps_(%)                        0.000000e+00\n",
      "http_dl_(bytes)                             3.028893e+06\n",
      "http_ul_(bytes)                             3.360160e+05\n",
      "activity_duration_dl_(ms)                   1.487800e+04\n",
      "activity_duration_ul_(ms)                   2.154000e+04\n",
      "dur._(ms).1                                 5.744206e+07\n",
      "nb_of_sec_with_125000b_<_vol_dl             5.330000e+02\n",
      "nb_of_sec_with_1250b_<_vol_ul_<_6250b       1.210000e+02\n",
      "nb_of_sec_with_31250b_<_vol_dl_<_125000b    4.530000e+02\n",
      "nb_of_sec_with_37500b_<_vol_ul              1.492571e+02\n",
      "nb_of_sec_with_6250b_<_vol_dl_<_31250b      5.270000e+02\n",
      "nb_of_sec_with_6250b_<_vol_ul_<_37500b      1.413048e+02\n",
      "nb_of_sec_with_vol_dl_<_6250b               8.800000e+01\n",
      "nb_of_sec_with_vol_ul_<_1250b               1.070000e+02\n",
      "social_media_dl_(bytes)                     8.991480e+05\n",
      "social_media_ul_(bytes)                     1.644800e+04\n",
      "google_dl_(bytes)                           2.882393e+06\n",
      "google_ul_(bytes)                           1.024279e+06\n",
      "email_dl_(bytes)                            8.927930e+05\n",
      "email_ul_(bytes)                            2.333830e+05\n",
      "youtube_dl_(bytes)                          5.833501e+06\n",
      "youtube_ul_(bytes)                          5.517965e+06\n",
      "netflix_dl_(bytes)                          5.777156e+06\n",
      "netflix_ul_(bytes)                          5.475981e+06\n",
      "gaming_dl_(bytes)                           2.104733e+08\n",
      "gaming_ul_(bytes)                           4.128476e+06\n",
      "other_dl_(bytes)                            2.101869e+08\n",
      "other_ul_(bytes)                            4.145943e+06\n",
      "total_ul_(bytes)                            3.322203e+07\n",
      "total_dl_(bytes)                            2.431072e+08\n",
      "Name: 0.25, dtype: float64\n",
      "\n",
      "Third Quartile (Q3):\n",
      "bearer_id                                   1.304243e+19\n",
      "start_ms                                    7.490000e+02\n",
      "end_ms                                      7.500000e+02\n",
      "dur._(ms)                                   1.324300e+05\n",
      "imsi                                        2.082018e+14\n",
      "msisdn/number                               3.368473e+10\n",
      "imei                                        8.611970e+13\n",
      "avg_rtt_dl_(ms)                             1.097957e+02\n",
      "avg_rtt_ul_(ms)                             1.766288e+01\n",
      "avg_bearer_tp_dl_(kbps)                     1.971000e+04\n",
      "avg_bearer_tp_ul_(kbps)                     1.120000e+03\n",
      "tcp_dl_retrans._vol_(bytes)                 2.080991e+07\n",
      "tcp_ul_retrans._vol_(bytes)                 7.596587e+05\n",
      "dl_tp_<_50_kbps_(%)                         1.000000e+02\n",
      "50_kbps_<_dl_tp_<_250_kbps_(%)              4.000000e+00\n",
      "250_kbps_<_dl_tp_<_1_mbps_(%)               1.000000e+00\n",
      "dl_tp_>_1_mbps_(%)                          1.000000e+00\n",
      "ul_tp_<_10_kbps_(%)                         1.000000e+02\n",
      "10_kbps_<_ul_tp_<_50_kbps_(%)               0.000000e+00\n",
      "50_kbps_<_ul_tp_<_300_kbps_(%)              0.000000e+00\n",
      "ul_tp_>_300_kbps_(%)                        0.000000e+00\n",
      "http_dl_(bytes)                             1.144710e+08\n",
      "http_ul_(bytes)                             3.242301e+06\n",
      "activity_duration_dl_(ms)                   6.796110e+05\n",
      "activity_duration_ul_(ms)                   5.991140e+05\n",
      "dur._(ms).1                                 1.324307e+08\n",
      "nb_of_sec_with_125000b_<_vol_dl             9.897000e+02\n",
      "nb_of_sec_with_1250b_<_vol_ul_<_6250b       3.404344e+02\n",
      "nb_of_sec_with_31250b_<_vol_dl_<_125000b    8.108374e+02\n",
      "nb_of_sec_with_37500b_<_vol_ul              1.492571e+02\n",
      "nb_of_sec_with_6250b_<_vol_dl_<_31250b      9.654648e+02\n",
      "nb_of_sec_with_6250b_<_vol_ul_<_37500b      1.413048e+02\n",
      "nb_of_sec_with_vol_dl_<_6250b               2.765000e+03\n",
      "nb_of_sec_with_vol_ul_<_1250b               2.560000e+03\n",
      "social_media_dl_(bytes)                     2.694938e+06\n",
      "social_media_ul_(bytes)                     4.933400e+04\n",
      "google_dl_(bytes)                           8.623552e+06\n",
      "google_ul_(bytes)                           3.088454e+06\n",
      "email_dl_(bytes)                            2.689327e+06\n",
      "email_ul_(bytes)                            7.004400e+05\n",
      "youtube_dl_(bytes)                          1.744852e+07\n",
      "youtube_ul_(bytes)                          1.651556e+07\n",
      "netflix_dl_(bytes)                          1.747048e+07\n",
      "netflix_ul_(bytes)                          1.650727e+07\n",
      "gaming_dl_(bytes)                           6.331742e+08\n",
      "gaming_ul_(bytes)                           1.243162e+07\n",
      "other_dl_(bytes)                            6.316918e+08\n",
      "other_ul_(bytes)                            1.238415e+07\n",
      "total_ul_(bytes)                            4.903424e+07\n",
      "total_dl_(bytes)                            6.657051e+08\n",
      "Name: 0.75, dtype: float64\n",
      "\n",
      "Interquartile Range (IQR):\n",
      "bearer_id                                   5.692543e+18\n",
      "start_ms                                    4.990000e+02\n",
      "end_ms                                      4.990000e+02\n",
      "dur._(ms)                                   7.498800e+04\n",
      "imsi                                        3.703424e+08\n",
      "msisdn/number                               3.322217e+07\n",
      "imei                                        5.065709e+13\n",
      "avg_rtt_dl_(ms)                             7.479571e+01\n",
      "avg_rtt_ul_(ms)                             1.466288e+01\n",
      "avg_bearer_tp_dl_(kbps)                     1.966700e+04\n",
      "avg_bearer_tp_ul_(kbps)                     1.073000e+03\n",
      "tcp_dl_retrans._vol_(bytes)                 1.947698e+07\n",
      "tcp_ul_retrans._vol_(bytes)                 6.966497e+05\n",
      "dl_tp_<_50_kbps_(%)                         9.000000e+00\n",
      "50_kbps_<_dl_tp_<_250_kbps_(%)              4.000000e+00\n",
      "250_kbps_<_dl_tp_<_1_mbps_(%)               1.000000e+00\n",
      "dl_tp_>_1_mbps_(%)                          1.000000e+00\n",
      "ul_tp_<_10_kbps_(%)                         1.000000e+00\n",
      "10_kbps_<_ul_tp_<_50_kbps_(%)               0.000000e+00\n",
      "50_kbps_<_ul_tp_<_300_kbps_(%)              0.000000e+00\n",
      "ul_tp_>_300_kbps_(%)                        0.000000e+00\n",
      "http_dl_(bytes)                             1.114421e+08\n",
      "http_ul_(bytes)                             2.906285e+06\n",
      "activity_duration_dl_(ms)                   6.647330e+05\n",
      "activity_duration_ul_(ms)                   5.775740e+05\n",
      "dur._(ms).1                                 7.498863e+07\n",
      "nb_of_sec_with_125000b_<_vol_dl             4.567000e+02\n",
      "nb_of_sec_with_1250b_<_vol_ul_<_6250b       2.194344e+02\n",
      "nb_of_sec_with_31250b_<_vol_dl_<_125000b    3.578374e+02\n",
      "nb_of_sec_with_37500b_<_vol_ul              0.000000e+00\n",
      "nb_of_sec_with_6250b_<_vol_dl_<_31250b      4.384648e+02\n",
      "nb_of_sec_with_6250b_<_vol_ul_<_37500b      0.000000e+00\n",
      "nb_of_sec_with_vol_dl_<_6250b               2.677000e+03\n",
      "nb_of_sec_with_vol_ul_<_1250b               2.453000e+03\n",
      "social_media_dl_(bytes)                     1.795790e+06\n",
      "social_media_ul_(bytes)                     3.288600e+04\n",
      "google_dl_(bytes)                           5.741159e+06\n",
      "google_ul_(bytes)                           2.064175e+06\n",
      "email_dl_(bytes)                            1.796534e+06\n",
      "email_ul_(bytes)                            4.670570e+05\n",
      "youtube_dl_(bytes)                          1.161502e+07\n",
      "youtube_ul_(bytes)                          1.099760e+07\n",
      "netflix_dl_(bytes)                          1.169332e+07\n",
      "netflix_ul_(bytes)                          1.103129e+07\n",
      "gaming_dl_(bytes)                           4.227009e+08\n",
      "gaming_ul_(bytes)                           8.303148e+06\n",
      "other_dl_(bytes)                            4.215049e+08\n",
      "other_ul_(bytes)                            8.238205e+06\n",
      "total_ul_(bytes)                            1.581221e+07\n",
      "total_dl_(bytes)                            4.225980e+08\n",
      "dtype: float64\n"
     ]
    }
   ],
   "source": [
    "# Select only numeric columns\n",
    "numeric_df = df.select_dtypes(include=['number'])\n",
    "\n",
    "# Calculate the first quartile (Q1), third quartile (Q3), and the interquartile range (IQR)\n",
    "Q1 = numeric_df.quantile(0.25)\n",
    "Q3 = numeric_df.quantile(0.75)\n",
    "IQR = Q3 - Q1\n",
    "\n",
    "print(\"First Quartile (Q1):\")\n",
    "print(Q1)\n",
    "print(\"\\nThird Quartile (Q3):\")\n",
    "print(Q3)\n",
    "print(\"\\nInterquartile Range (IQR):\")\n",
    "print(IQR)\n"
   ]
  },
  {
   "cell_type": "code",
   "execution_count": 17,
   "metadata": {},
   "outputs": [
    {
     "name": "stdout",
     "output_type": "stream",
     "text": [
      "Numeric Columns for Outlier Handling: Index(['10_kbps_<_ul_tp_<_50_kbps_(%)', '250_kbps_<_dl_tp_<_1_mbps_(%)',\n",
      "       '50_kbps_<_dl_tp_<_250_kbps_(%)', '50_kbps_<_ul_tp_<_300_kbps_(%)',\n",
      "       'activity_duration_dl_(ms)', 'activity_duration_ul_(ms)',\n",
      "       'avg_bearer_tp_dl_(kbps)', 'avg_bearer_tp_ul_(kbps)', 'avg_rtt_dl_(ms)',\n",
      "       'avg_rtt_ul_(ms)', 'bearer_id', 'dl_tp_<_50_kbps_(%)',\n",
      "       'dl_tp_>_1_mbps_(%)', 'dur._(ms)', 'dur._(ms).1', 'email_dl_(bytes)',\n",
      "       'email_ul_(bytes)', 'end_ms', 'gaming_dl_(bytes)', 'gaming_ul_(bytes)',\n",
      "       'google_dl_(bytes)', 'google_ul_(bytes)', 'http_dl_(bytes)',\n",
      "       'http_ul_(bytes)', 'imei', 'imsi', 'msisdn/number',\n",
      "       'nb_of_sec_with_125000b_<_vol_dl',\n",
      "       'nb_of_sec_with_1250b_<_vol_ul_<_6250b',\n",
      "       'nb_of_sec_with_31250b_<_vol_dl_<_125000b',\n",
      "       'nb_of_sec_with_37500b_<_vol_ul',\n",
      "       'nb_of_sec_with_6250b_<_vol_dl_<_31250b',\n",
      "       'nb_of_sec_with_6250b_<_vol_ul_<_37500b',\n",
      "       'nb_of_sec_with_vol_dl_<_6250b', 'nb_of_sec_with_vol_ul_<_1250b',\n",
      "       'netflix_dl_(bytes)', 'netflix_ul_(bytes)', 'other_dl_(bytes)',\n",
      "       'other_ul_(bytes)', 'social_media_dl_(bytes)',\n",
      "       'social_media_ul_(bytes)', 'start_ms', 'tcp_dl_retrans._vol_(bytes)',\n",
      "       'tcp_ul_retrans._vol_(bytes)', 'total_dl_(bytes)', 'total_ul_(bytes)',\n",
      "       'ul_tp_<_10_kbps_(%)', 'ul_tp_>_300_kbps_(%)', 'youtube_dl_(bytes)',\n",
      "       'youtube_ul_(bytes)'],\n",
      "      dtype='object')\n",
      "Clipped column: 10_kbps_<_ul_tp_<_50_kbps_(%)\n",
      "Clipped column: 250_kbps_<_dl_tp_<_1_mbps_(%)\n",
      "Clipped column: 50_kbps_<_dl_tp_<_250_kbps_(%)\n",
      "Clipped column: 50_kbps_<_ul_tp_<_300_kbps_(%)\n",
      "Clipped column: activity_duration_dl_(ms)\n",
      "Clipped column: activity_duration_ul_(ms)\n",
      "Clipped column: avg_bearer_tp_dl_(kbps)\n",
      "Clipped column: avg_bearer_tp_ul_(kbps)\n",
      "Clipped column: avg_rtt_dl_(ms)\n",
      "Clipped column: avg_rtt_ul_(ms)\n",
      "Clipped column: bearer_id\n",
      "Clipped column: dl_tp_<_50_kbps_(%)\n",
      "Clipped column: dl_tp_>_1_mbps_(%)\n",
      "Clipped column: dur._(ms)\n",
      "Clipped column: dur._(ms).1\n",
      "Clipped column: email_dl_(bytes)\n",
      "Clipped column: email_ul_(bytes)\n",
      "Clipped column: end_ms\n",
      "Clipped column: gaming_dl_(bytes)\n",
      "Clipped column: gaming_ul_(bytes)\n",
      "Clipped column: google_dl_(bytes)\n",
      "Clipped column: google_ul_(bytes)\n",
      "Clipped column: http_dl_(bytes)\n",
      "Clipped column: http_ul_(bytes)\n",
      "Clipped column: imei\n",
      "Clipped column: imsi\n",
      "Clipped column: msisdn/number\n",
      "Clipped column: nb_of_sec_with_125000b_<_vol_dl\n",
      "Clipped column: nb_of_sec_with_1250b_<_vol_ul_<_6250b\n",
      "Clipped column: nb_of_sec_with_31250b_<_vol_dl_<_125000b\n",
      "Clipped column: nb_of_sec_with_37500b_<_vol_ul\n",
      "Clipped column: nb_of_sec_with_6250b_<_vol_dl_<_31250b\n",
      "Clipped column: nb_of_sec_with_6250b_<_vol_ul_<_37500b\n",
      "Clipped column: nb_of_sec_with_vol_dl_<_6250b\n",
      "Clipped column: nb_of_sec_with_vol_ul_<_1250b\n",
      "Clipped column: netflix_dl_(bytes)\n",
      "Clipped column: netflix_ul_(bytes)\n",
      "Clipped column: other_dl_(bytes)\n",
      "Clipped column: other_ul_(bytes)\n",
      "Clipped column: social_media_dl_(bytes)\n",
      "Clipped column: social_media_ul_(bytes)\n",
      "Clipped column: start_ms\n",
      "Clipped column: tcp_dl_retrans._vol_(bytes)\n",
      "Clipped column: tcp_ul_retrans._vol_(bytes)\n",
      "Clipped column: total_dl_(bytes)\n",
      "Clipped column: total_ul_(bytes)\n",
      "Clipped column: ul_tp_<_10_kbps_(%)\n",
      "Clipped column: ul_tp_>_300_kbps_(%)\n",
      "Clipped column: youtube_dl_(bytes)\n",
      "Clipped column: youtube_ul_(bytes)\n"
     ]
    }
   ],
   "source": [
    "# Identify numeric columns excluding ID-like columns\n",
    "id_columns = ['Bearer Id', 'IMSI', 'MSISDN/Number', 'IMEI']\n",
    "numerical_columns = df.select_dtypes(include=['number']).columns.difference(id_columns)\n",
    "\n",
    "# Display selected numeric columns for debugging\n",
    "print(\"Numeric Columns for Outlier Handling:\", numerical_columns)\n",
    "\n",
    "# Apply clipping to remove extreme outliers for numeric columns\n",
    "for col in numerical_columns:\n",
    "    try:\n",
    "        # Perform clipping for valid numeric columns\n",
    "        df[col] = df[col].clip(lower=df[col].quantile(0.01), upper=df[col].quantile(0.99))\n",
    "        print(f\"Clipped column: {col}\")\n",
    "    except Exception as e:\n",
    "        print(f\"Error processing column '{col}': {e}\")\n"
   ]
  },
  {
   "cell_type": "markdown",
   "metadata": {},
   "source": [
    "### Convert Data Types"
   ]
  },
  {
   "cell_type": "code",
   "execution_count": 19,
   "metadata": {},
   "outputs": [],
   "source": [
    "import pandas as pd"
   ]
  },
  {
   "cell_type": "code",
   "execution_count": 20,
   "metadata": {},
   "outputs": [],
   "source": [
    "df['start'] = pd.to_datetime(df['start'])\n",
    "df['end'] = pd.to_datetime(df['end'])\n"
   ]
  },
  {
   "cell_type": "code",
   "execution_count": 21,
   "metadata": {},
   "outputs": [],
   "source": [
    "df['handset_type'] = df['handset_type'].astype('category')\n"
   ]
  },
  {
   "cell_type": "markdown",
   "metadata": {},
   "source": [
    "### Feature Enginnering"
   ]
  },
  {
   "cell_type": "code",
   "execution_count": 22,
   "metadata": {},
   "outputs": [],
   "source": [
    "df['session_duration'] = (df['end'] - df['start']).dt.total_seconds()\n"
   ]
  },
  {
   "cell_type": "code",
   "execution_count": 29,
   "metadata": {},
   "outputs": [
    {
     "name": "stdout",
     "output_type": "stream",
     "text": [
      "Index(['bearer_id', 'start', 'start_ms', 'end', 'end_ms', 'dur._(ms)', 'imsi',\n",
      "       'msisdn/number', 'imei', 'last_location_name', 'avg_rtt_dl_(ms)',\n",
      "       'avg_rtt_ul_(ms)', 'avg_bearer_tp_dl_(kbps)', 'avg_bearer_tp_ul_(kbps)',\n",
      "       'tcp_dl_retrans._vol_(bytes)', 'tcp_ul_retrans._vol_(bytes)',\n",
      "       'dl_tp_<_50_kbps_(%)', '50_kbps_<_dl_tp_<_250_kbps_(%)',\n",
      "       '250_kbps_<_dl_tp_<_1_mbps_(%)', 'dl_tp_>_1_mbps_(%)',\n",
      "       'ul_tp_<_10_kbps_(%)', '10_kbps_<_ul_tp_<_50_kbps_(%)',\n",
      "       '50_kbps_<_ul_tp_<_300_kbps_(%)', 'ul_tp_>_300_kbps_(%)',\n",
      "       'http_dl_(bytes)', 'http_ul_(bytes)', 'activity_duration_dl_(ms)',\n",
      "       'activity_duration_ul_(ms)', 'dur._(ms).1', 'handset_manufacturer',\n",
      "       'handset_type', 'nb_of_sec_with_125000b_<_vol_dl',\n",
      "       'nb_of_sec_with_1250b_<_vol_ul_<_6250b',\n",
      "       'nb_of_sec_with_31250b_<_vol_dl_<_125000b',\n",
      "       'nb_of_sec_with_37500b_<_vol_ul',\n",
      "       'nb_of_sec_with_6250b_<_vol_dl_<_31250b',\n",
      "       'nb_of_sec_with_6250b_<_vol_ul_<_37500b',\n",
      "       'nb_of_sec_with_vol_dl_<_6250b', 'nb_of_sec_with_vol_ul_<_1250b',\n",
      "       'social_media_dl_(bytes)', 'social_media_ul_(bytes)',\n",
      "       'google_dl_(bytes)', 'google_ul_(bytes)', 'email_dl_(bytes)',\n",
      "       'email_ul_(bytes)', 'youtube_dl_(bytes)', 'youtube_ul_(bytes)',\n",
      "       'netflix_dl_(bytes)', 'netflix_ul_(bytes)', 'gaming_dl_(bytes)',\n",
      "       'gaming_ul_(bytes)', 'other_dl_(bytes)', 'other_ul_(bytes)',\n",
      "       'total_ul_(bytes)', 'total_dl_(bytes)', 'session_duration'],\n",
      "      dtype='object')\n"
     ]
    }
   ],
   "source": [
    "print(df.columns)\n"
   ]
  },
  {
   "cell_type": "code",
   "execution_count": 30,
   "metadata": {},
   "outputs": [],
   "source": [
    "# Compute total data volume \n",
    "df['total_data_volume'] = df['total_dl_(bytes)'] + df['total_ul_(bytes)']\n"
   ]
  },
  {
   "cell_type": "markdown",
   "metadata": {},
   "source": [
    "### Validate Data Integrity"
   ]
  },
  {
   "cell_type": "code",
   "execution_count": 24,
   "metadata": {},
   "outputs": [
    {
     "name": "stdout",
     "output_type": "stream",
     "text": [
      "['Samsung Galaxy A5 Sm-A520F', 'Samsung Galaxy J5 (Sm-J530)', 'Samsung Galaxy A8 (2018)', 'undefined', 'Samsung Sm-G390F', ..., 'Lg-K520', 'D-Link Corporati. Dwr-953', 'Asustek Asus Zb500Kg', 'Huawei Mediapad T5 10 Pro', 'Shenzhen Jeko Co. Blackview Bv5800 Pro']\n",
      "Length: 1396\n",
      "Categories (1396, object): ['A-Link Telecom I. Cubot A5', 'A-Link Telecom I. Cubot Note Plus', 'A-Link Telecom I. Cubot Note S', 'A-Link Telecom I. Cubot Nova', ..., 'Zyxel Communicat. Lte7460', 'Zyxel Communicat. Sbg3600', 'Zyxel Communicat. Zyxel Wah7706', 'undefined']\n"
     ]
    }
   ],
   "source": [
    "print(df['handset_type'].unique())\n"
   ]
  },
  {
   "cell_type": "code",
   "execution_count": 31,
   "metadata": {},
   "outputs": [
    {
     "name": "stdout",
     "output_type": "stream",
     "text": [
      "Empty DataFrame\n",
      "Columns: [bearer_id, start, start_ms, end, end_ms, dur._(ms), imsi, msisdn/number, imei, last_location_name, avg_rtt_dl_(ms), avg_rtt_ul_(ms), avg_bearer_tp_dl_(kbps), avg_bearer_tp_ul_(kbps), tcp_dl_retrans._vol_(bytes), tcp_ul_retrans._vol_(bytes), dl_tp_<_50_kbps_(%), 50_kbps_<_dl_tp_<_250_kbps_(%), 250_kbps_<_dl_tp_<_1_mbps_(%), dl_tp_>_1_mbps_(%), ul_tp_<_10_kbps_(%), 10_kbps_<_ul_tp_<_50_kbps_(%), 50_kbps_<_ul_tp_<_300_kbps_(%), ul_tp_>_300_kbps_(%), http_dl_(bytes), http_ul_(bytes), activity_duration_dl_(ms), activity_duration_ul_(ms), dur._(ms).1, handset_manufacturer, handset_type, nb_of_sec_with_125000b_<_vol_dl, nb_of_sec_with_1250b_<_vol_ul_<_6250b, nb_of_sec_with_31250b_<_vol_dl_<_125000b, nb_of_sec_with_37500b_<_vol_ul, nb_of_sec_with_6250b_<_vol_dl_<_31250b, nb_of_sec_with_6250b_<_vol_ul_<_37500b, nb_of_sec_with_vol_dl_<_6250b, nb_of_sec_with_vol_ul_<_1250b, social_media_dl_(bytes), social_media_ul_(bytes), google_dl_(bytes), google_ul_(bytes), email_dl_(bytes), email_ul_(bytes), youtube_dl_(bytes), youtube_ul_(bytes), netflix_dl_(bytes), netflix_ul_(bytes), gaming_dl_(bytes), gaming_ul_(bytes), other_dl_(bytes), other_ul_(bytes), total_ul_(bytes), total_dl_(bytes), session_duration, total_data_volume]\n",
      "Index: []\n",
      "\n",
      "[0 rows x 57 columns]\n"
     ]
    }
   ],
   "source": [
    "print(df[df['total_data_volume'] < 0])\n"
   ]
  },
  {
   "cell_type": "markdown",
   "metadata": {},
   "source": [
    "### Save The cleaned dataset "
   ]
  },
  {
   "cell_type": "code",
   "execution_count": 32,
   "metadata": {},
   "outputs": [],
   "source": [
    "df.to_csv('cleaned_dataset.csv', index=False)\n"
   ]
  }
 ],
 "metadata": {
  "kernelspec": {
   "display_name": ".venv",
   "language": "python",
   "name": "python3"
  },
  "language_info": {
   "codemirror_mode": {
    "name": "ipython",
    "version": 3
   },
   "file_extension": ".py",
   "mimetype": "text/x-python",
   "name": "python",
   "nbconvert_exporter": "python",
   "pygments_lexer": "ipython3",
   "version": "3.12.6"
  }
 },
 "nbformat": 4,
 "nbformat_minor": 2
}
