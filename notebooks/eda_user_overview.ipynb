{
 "cells": [
  {
   "cell_type": "markdown",
   "metadata": {},
   "source": [
    "# Importing Libraries and configure Enviroment"
   ]
  },
  {
   "cell_type": "code",
   "execution_count": 9,
   "metadata": {},
   "outputs": [
    {
     "name": "stdout",
     "output_type": "stream",
     "text": [
      "Import successful!\n"
     ]
    }
   ],
   "source": [
    "# Import necessary libraries\n",
    "import os\n",
    "import pandas as pd\n",
    "import numpy as np\n",
    "import matplotlib.pyplot as plt\n",
    "import seaborn as sns\n",
    "import sys\n",
    "import os\n",
    "\n",
    "# Add the parent directory of src to the system path\n",
    "sys.path.append(os.path.abspath(os.path.join(os.getcwd(), \"../\")))\n",
    "\n",
    "# Import the functions from data_loading.py\n",
    "from src.data.data_loading import connect_to_postgres, query_postgres\n",
    "print(\"Import successful!\")\n",
    "\n",
    "# Configure display options for pandas\n",
    "pd.set_option('display.max_columns', None)\n",
    "pd.set_option('display.float_format', '{:.2f}'.format)\n",
    "\n",
    "# Set visualization styles\n",
    "sns.set_theme(style=\"whitegrid\")\n"
   ]
  },
  {
   "cell_type": "code",
   "execution_count": 2,
   "metadata": {},
   "outputs": [
    {
     "name": "stdout",
     "output_type": "stream",
     "text": [
      "Failed to connect to the database: name 'connect_to_postgres' is not defined\n"
     ]
    },
    {
     "ename": "NameError",
     "evalue": "name 'connect_to_postgres' is not defined",
     "output_type": "error",
     "traceback": [
      "\u001b[1;31m---------------------------------------------------------------------------\u001b[0m",
      "\u001b[1;31mNameError\u001b[0m                                 Traceback (most recent call last)",
      "Cell \u001b[1;32mIn[2], line 3\u001b[0m\n\u001b[0;32m      1\u001b[0m \u001b[38;5;66;03m# Establish connection to the PostgreSQL database\u001b[39;00m\n\u001b[0;32m      2\u001b[0m \u001b[38;5;28;01mtry\u001b[39;00m:\n\u001b[1;32m----> 3\u001b[0m     engine \u001b[38;5;241m=\u001b[39m \u001b[43mconnect_to_postgres\u001b[49m()\n\u001b[0;32m      4\u001b[0m     \u001b[38;5;28;01mwith\u001b[39;00m engine\u001b[38;5;241m.\u001b[39mconnect() \u001b[38;5;28;01mas\u001b[39;00m conn:\n\u001b[0;32m      5\u001b[0m         conn\u001b[38;5;241m.\u001b[39mexecute(\u001b[38;5;124m\"\u001b[39m\u001b[38;5;124mSELECT 1\u001b[39m\u001b[38;5;124m\"\u001b[39m)  \u001b[38;5;66;03m# Test the connection\u001b[39;00m\n",
      "\u001b[1;31mNameError\u001b[0m: name 'connect_to_postgres' is not defined"
     ]
    }
   ],
   "source": [
    "# Establish connection to the PostgreSQL database\n",
    "try:\n",
    "    engine = connect_to_postgres()\n",
    "    with engine.connect() as conn:\n",
    "        conn.execute(\"SELECT 1\")  # Test the connection\n",
    "    print(\"Database connection established successfully.\")\n",
    "except Exception as e:\n",
    "    print(f\"Failed to connect to the database: {e}\")\n",
    "    raise\n",
    "\n",
    "# Query to fetch user data\n",
    "query = \"\"\"\n",
    "SELECT \n",
    "    user_id,\n",
    "    handset_type,\n",
    "    handset_manufacturer,\n",
    "    social_media_data,\n",
    "    google_data,\n",
    "    email_data,\n",
    "    youtube_data,\n",
    "    netflix_data,\n",
    "    gaming_data,\n",
    "    other_data,\n",
    "    number_of_sessions,\n",
    "    session_duration,\n",
    "    total_download_data,\n",
    "    total_upload_data\n",
    "FROM xdr_sessions_table\n",
    "\"\"\"\n",
    "\n",
    "# Load the data into a pandas DataFrame\n",
    "try:\n",
    "    user_data = query_postgres(engine, query)\n",
    "    print(\"Data loaded successfully.\")\n",
    "    # Display the first few rows of the dataset\n",
    "    print(user_data.head())\n",
    "except Exception as e:\n",
    "    print(f\"Failed to load data: {e}\")\n",
    "    raise\n"
   ]
  }
 ],
 "metadata": {
  "kernelspec": {
   "display_name": ".venv",
   "language": "python",
   "name": "python3"
  },
  "language_info": {
   "codemirror_mode": {
    "name": "ipython",
    "version": 3
   },
   "file_extension": ".py",
   "mimetype": "text/x-python",
   "name": "python",
   "nbconvert_exporter": "python",
   "pygments_lexer": "ipython3",
   "version": "3.12.6"
  }
 },
 "nbformat": 4,
 "nbformat_minor": 2
}
